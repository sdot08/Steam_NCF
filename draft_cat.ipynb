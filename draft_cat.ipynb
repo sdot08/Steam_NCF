{
 "cells": [
  {
   "cell_type": "code",
   "execution_count": 9,
   "metadata": {
    "collapsed": true
   },
   "outputs": [],
   "source": [
    "%load_ext autoreload\n",
    "%autoreload 2"
   ]
  },
  {
   "cell_type": "code",
   "execution_count": null,
   "metadata": {
    "collapsed": true
   },
   "outputs": [],
   "source": []
  },
  {
   "cell_type": "code",
   "execution_count": 10,
   "metadata": {},
   "outputs": [],
   "source": [
    "def getfile(filename, dict_cat2int, count):\n",
    "    a = 0\n",
    "    dict = {}\n",
    "    with open(filename, \"r\", encoding = \"ISO-8859-1\") as f:\n",
    "        line = f.readline()\n",
    "        while line != None and line != \"\" and a < count:\n",
    "            arr = line.split(\"\\t\")[0][:-1].split('::')\n",
    "            print(arr)\n",
    "            index = int(arr[0])\n",
    "            value = arr[2].split('|')\n",
    "            cat_int = [dict_cat2int[val] for val in value]\n",
    "            dict[index] = [0 + 1 * (i in cat_int)for i in range(18)]\n",
    "            a += 1\n",
    "            line = f.readline()\n",
    "    return dict"
   ]
  },
  {
   "cell_type": "code",
   "execution_count": 19,
   "metadata": {},
   "outputs": [],
   "source": [
    "def get_dict_cat2int(filename):\n",
    "    a = 0\n",
    "    dict = {}\n",
    "    with open(filename, \"r\", encoding = \"ISO-8859-1\") as f:\n",
    "        line = f.readline()\n",
    "        while line != None and line != \"\":\n",
    "            arr = line.split(\"\\t\")[0][:-1].split('::')\n",
    "            print(arr)\n",
    "            index = int(arr[0])\n",
    "            value = arr[2].split('|')\n",
    "            for val in value:\n",
    "                if val not in dict:\n",
    "                    dict[val] = a\n",
    "                    a += 1\n",
    "            if a == 18:\n",
    "                break\n",
    "            line = f.readline()\n",
    "    return dict"
   ]
  },
  {
   "cell_type": "code",
   "execution_count": 3,
   "metadata": {
    "collapsed": true
   },
   "outputs": [],
   "source": [
    "import pickle\n",
    "def save_object(obj, filename):\n",
    "  with open(filename, 'wb') as output:  # Overwrites any existing file.\n",
    "    pickle.dump(obj, output, pickle.HIGHEST_PROTOCOL)"
   ]
  },
  {
   "cell_type": "code",
   "execution_count": 4,
   "metadata": {
    "collapsed": true
   },
   "outputs": [],
   "source": [
    "movies = '/Users/hp/GitHub/neural_collaborative_filtering/Data/movies.dat'"
   ]
  },
  {
   "cell_type": "code",
   "execution_count": 5,
   "metadata": {},
   "outputs": [
    {
     "data": {
      "text/plain": [
       "{'Action': 7,\n",
       " 'Adventure': 3,\n",
       " 'Animation': 0,\n",
       " \"Children's\": 1,\n",
       " 'Comedy': 2,\n",
       " 'Crime': 8,\n",
       " 'Documentary': 12,\n",
       " 'Drama': 6,\n",
       " 'Fantasy': 4,\n",
       " 'Film-Noir': 16,\n",
       " 'Horror': 10,\n",
       " 'Musical': 14,\n",
       " 'Mystery': 15,\n",
       " 'Romance': 5,\n",
       " 'Sci-Fi': 11,\n",
       " 'Thriller': 9,\n",
       " 'War': 13,\n",
       " 'Western': 17}"
      ]
     },
     "execution_count": 5,
     "metadata": {},
     "output_type": "execute_result"
    }
   ],
   "source": [
    "dict_cat2int = get_dict_cat2int(movies)\n",
    "dict_cat2int"
   ]
  },
  {
   "cell_type": "code",
   "execution_count": 20,
   "metadata": {},
   "outputs": [
    {
     "name": "stdout",
     "output_type": "stream",
     "text": [
      "['1', 'Toy Story (1995)', \"Animation|Children's|Comedy\"]\n",
      "['2', 'Jumanji (1995)', \"Adventure|Children's|Fantasy\"]\n",
      "['3', 'Grumpier Old Men (1995)', 'Comedy|Romance']\n",
      "['4', 'Waiting to Exhale (1995)', 'Comedy|Drama']\n",
      "['5', 'Father of the Bride Part II (1995)', 'Comedy']\n",
      "['6', 'Heat (1995)', 'Action|Crime|Thriller']\n",
      "['7', 'Sabrina (1995)', 'Comedy|Romance']\n",
      "['8', 'Tom and Huck (1995)', \"Adventure|Children's\"]\n",
      "['9', 'Sudden Death (1995)', 'Action']\n",
      "['10', 'GoldenEye (1995)', 'Action|Adventure|Thriller']\n",
      "['11', 'American President, The (1995)', 'Comedy|Drama|Romance']\n",
      "['12', 'Dracula: Dead and Loving It (1995)', 'Comedy|Horror']\n",
      "['13', 'Balto (1995)', \"Animation|Children's\"]\n",
      "['14', 'Nixon (1995)', 'Drama']\n",
      "['15', 'Cutthroat Island (1995)', 'Action|Adventure|Romance']\n",
      "['16', 'Casino (1995)', 'Drama|Thriller']\n",
      "['17', 'Sense and Sensibility (1995)', 'Drama|Romance']\n",
      "['18', 'Four Rooms (1995)', 'Thriller']\n",
      "['19', 'Ace Ventura: When Nature Calls (1995)', 'Comedy']\n",
      "['20', 'Money Train (1995)', 'Action']\n",
      "['21', 'Get Shorty (1995)', 'Action|Comedy|Drama']\n",
      "['22', 'Copycat (1995)', 'Crime|Drama|Thriller']\n",
      "['23', 'Assassins (1995)', 'Thriller']\n",
      "['24', 'Powder (1995)', 'Drama|Sci-Fi']\n",
      "['25', 'Leaving Las Vegas (1995)', 'Drama|Romance']\n"
     ]
    }
   ],
   "source": [
    "dict_id2cat = getfile(movies, dict_cat2int, count = 25)\n",
    "#save_object(dict_id2cat, './data/dict_id2cat.p')\n"
   ]
  },
  {
   "cell_type": "code",
   "execution_count": 18,
   "metadata": {},
   "outputs": [],
   "source": [
    "from Dataset import Dataset\n",
    "dataset = Dataset('Data/ml-1m')\n",
    "train, testRatings, testNegatives = dataset.trainMatrix, dataset.testRatings, dataset.testNegatives"
   ]
  },
  {
   "cell_type": "code",
   "execution_count": 31,
   "metadata": {},
   "outputs": [],
   "source": [
    "def getfile_simple(filename,count):\n",
    "    a = 0\n",
    "    with open(filename, \"r\", encoding = \"ISO-8859-1\") as f:\n",
    "        line = f.readline()\n",
    "        while line != None and line != \"\" and a < count:\n",
    "            arr = line.split(\"\\t\")\n",
    "            print(arr)\n",
    "            line = f.readline()\n",
    "            a += 1"
   ]
  },
  {
   "cell_type": "code",
   "execution_count": 33,
   "metadata": {},
   "outputs": [
    {
     "name": "stdout",
     "output_type": "stream",
     "text": [
      "['(0,25)', '1064', '174', '2791', '3373', '269', '2678', '1902', '3641', '1216', '915', '3672', '2803', '2344', '986', '3217', '2824', '2598', '464', '2340', '1952', '1855', '1353', '1547', '3487', '3293', '1541', '2414', '2728', '340', '1421', '1963', '2545', '972', '487', '3463', '2727', '1135', '3135', '128', '175', '2423', '1974', '2515', '3278', '3079', '1527', '2182', '1018', '2800', '1830', '1539', '617', '247', '3448', '1699', '1420', '2487', '198', '811', '1010', '1423', '2840', '1770', '881', '1913', '1803', '1734', '3326', '1617', '224', '3352', '1869', '1182', '1331', '336', '2517', '1721', '3512', '3656', '273', '1026', '1991', '2190', '998', '3386', '3369', '185', '2822', '864', '2854', '3067', '58', '2551', '2333', '2688', '3703', '1300', '1924', '3118\\n']\n"
     ]
    }
   ],
   "source": [
    "getfile_simple('./data/ml-1m.test.negative', 1)"
   ]
  },
  {
   "cell_type": "code",
   "execution_count": 37,
   "metadata": {},
   "outputs": [
    {
     "data": {
      "text/plain": [
       "(2,)"
      ]
     },
     "execution_count": 37,
     "metadata": {},
     "output_type": "execute_result"
    }
   ],
   "source": [
    "import numpy as np\n",
    "a = []\n",
    "a.append([1,2])\n",
    "a.append([2])\n",
    "np.array(a).shape"
   ]
  },
  {
   "cell_type": "code",
   "execution_count": null,
   "metadata": {
    "collapsed": true
   },
   "outputs": [],
   "source": []
  }
 ],
 "metadata": {
  "kernelspec": {
   "display_name": "Python [conda env:anaconda]",
   "language": "python",
   "name": "conda-env-anaconda-py"
  },
  "language_info": {
   "codemirror_mode": {
    "name": "ipython",
    "version": 3
   },
   "file_extension": ".py",
   "mimetype": "text/x-python",
   "name": "python",
   "nbconvert_exporter": "python",
   "pygments_lexer": "ipython3",
   "version": "3.5.3"
  }
 },
 "nbformat": 4,
 "nbformat_minor": 2
}
