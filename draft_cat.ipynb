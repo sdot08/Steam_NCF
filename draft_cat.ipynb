{
 "cells": [
  {
   "cell_type": "code",
   "execution_count": 81,
   "metadata": {},
   "outputs": [],
   "source": [
    "def getfile(filename, dict_cat2int, count):\n",
    "    a = 0\n",
    "    dict = {}\n",
    "    with open(filename, \"r\", encoding = \"ISO-8859-1\") as f:\n",
    "        line = f.readline()\n",
    "        while line != None and line != \"\" and a < count:\n",
    "            arr = line.split(\"\\t\")[0][:-1].split('::')\n",
    "            index = arr[0]\n",
    "            value = arr[2].split('|')\n",
    "            cat_int = [dict_cat2int[val] for val in value]\n",
    "            dict[index] = [0 + 1 * (i in cat_int)for i in range(18)]\n",
    "            a += 1\n",
    "            line = f.readline()\n",
    "    return dict"
   ]
  },
  {
   "cell_type": "code",
   "execution_count": 75,
   "metadata": {},
   "outputs": [],
   "source": [
    "def get_dict_cat2int(filename):\n",
    "    a = 0\n",
    "    dict = {}\n",
    "    with open(filename, \"r\", encoding = \"ISO-8859-1\") as f:\n",
    "        line = f.readline()\n",
    "        while line != None and line != \"\":\n",
    "            arr = line.split(\"\\t\")[0][:-1].split('::')\n",
    "            index = arr[0]\n",
    "            value = arr[2].split('|')\n",
    "            for val in value:\n",
    "                if val not in dict:\n",
    "                    dict[val] = a\n",
    "                    a += 1\n",
    "            if a == 18:\n",
    "                break\n",
    "            line = f.readline()\n",
    "    return dict"
   ]
  },
  {
   "cell_type": "code",
   "execution_count": 83,
   "metadata": {
    "collapsed": true
   },
   "outputs": [],
   "source": [
    "import pickle\n",
    "def save_object(obj, filename):\n",
    "  with open(filename, 'wb') as output:  # Overwrites any existing file.\n",
    "    pickle.dump(obj, output, pickle.HIGHEST_PROTOCOL)"
   ]
  },
  {
   "cell_type": "code",
   "execution_count": 68,
   "metadata": {
    "collapsed": true
   },
   "outputs": [],
   "source": [
    "movies = '/Users/hp/GitHub/neural_collaborative_filtering/Data/movies.dat'"
   ]
  },
  {
   "cell_type": "code",
   "execution_count": 71,
   "metadata": {},
   "outputs": [
    {
     "data": {
      "text/plain": [
       "{'Action': 7,\n",
       " 'Adventure': 3,\n",
       " 'Animation': 0,\n",
       " \"Children's\": 1,\n",
       " 'Comedy': 2,\n",
       " 'Crime': 8,\n",
       " 'Documentary': 12,\n",
       " 'Drama': 6,\n",
       " 'Fantasy': 4,\n",
       " 'Film-Noir': 16,\n",
       " 'Horror': 10,\n",
       " 'Musical': 14,\n",
       " 'Mystery': 15,\n",
       " 'Romance': 5,\n",
       " 'Sci-Fi': 11,\n",
       " 'Thriller': 9,\n",
       " 'War': 13,\n",
       " 'Western': 17}"
      ]
     },
     "execution_count": 71,
     "metadata": {},
     "output_type": "execute_result"
    }
   ],
   "source": [
    "dict_cat2int = get_dict_cat2int(movies)\n",
    "dict_cat2int"
   ]
  },
  {
   "cell_type": "code",
   "execution_count": 82,
   "metadata": {},
   "outputs": [],
   "source": [
    "dict_id2cat = getfile(movies, dict_cat2int, count = 100)\n",
    "save_object(dict_id2cat, ./data/)"
   ]
  },
  {
   "cell_type": "code",
   "execution_count": 33,
   "metadata": {},
   "outputs": [
    {
     "name": "stdout",
     "output_type": "stream",
     "text": [
      "['0', '32', '4', '978824330\\n']\n",
      "['0', '34', '4', '978824330\\n']\n",
      "['0', '4', '5', '978824291\\n']\n",
      "['0', '35', '4', '978824291\\n']\n",
      "['0', '30', '4', '978824291\\n']\n",
      "['0', '29', '3', '978824268\\n']\n",
      "['0', '33', '4', '978824268\\n']\n",
      "['0', '40', '5', '978824268\\n']\n",
      "['0', '10', '5', '978824268\\n']\n",
      "['0', '16', '3', '978824268\\n']\n"
     ]
    }
   ],
   "source": [
    "getfile('/Users/hp/GitHub/neural_collaborative_filtering/Data/ml-1m.train.rating',10)"
   ]
  },
  {
   "cell_type": "code",
   "execution_count": 34,
   "metadata": {},
   "outputs": [
    {
     "name": "stdout",
     "output_type": "stream",
     "text": [
      "[\"1::Toy Story (1995)::Animation|Children's|Comedy\\n\"]\n",
      "[\"2::Jumanji (1995)::Adventure|Children's|Fantasy\\n\"]\n",
      "['3::Grumpier Old Men (1995)::Comedy|Romance\\n']\n",
      "['4::Waiting to Exhale (1995)::Comedy|Drama\\n']\n",
      "['5::Father of the Bride Part II (1995)::Comedy\\n']\n",
      "['6::Heat (1995)::Action|Crime|Thriller\\n']\n",
      "['7::Sabrina (1995)::Comedy|Romance\\n']\n",
      "[\"8::Tom and Huck (1995)::Adventure|Children's\\n\"]\n",
      "['9::Sudden Death (1995)::Action\\n']\n",
      "['10::GoldenEye (1995)::Action|Adventure|Thriller\\n']\n"
     ]
    }
   ],
   "source": [
    "getfile('/Users/hp/GitHub/neural_collaborative_filtering/Data/movies.dat',10)"
   ]
  },
  {
   "cell_type": "code",
   "execution_count": null,
   "metadata": {
    "collapsed": true
   },
   "outputs": [],
   "source": []
  },
  {
   "cell_type": "code",
   "execution_count": null,
   "metadata": {
    "collapsed": true
   },
   "outputs": [],
   "source": []
  },
  {
   "cell_type": "code",
   "execution_count": null,
   "metadata": {
    "collapsed": true
   },
   "outputs": [],
   "source": []
  },
  {
   "cell_type": "code",
   "execution_count": null,
   "metadata": {
    "collapsed": true
   },
   "outputs": [],
   "source": [
    "'''\n",
    "Created on Aug 8, 2016\n",
    "Processing datasets. \n",
    "\n",
    "@author: Xiangnan He (xiangnanhe@gmail.com)\n",
    "'''\n",
    "import scipy.sparse as sp\n",
    "import numpy as np\n",
    "\n",
    "class Dataset(object):\n",
    "    '''\n",
    "    classdocs\n",
    "    '''\n",
    "\n",
    "    def __init__(self, path):\n",
    "        '''\n",
    "        Constructor\n",
    "        '''\n",
    "        self.trainMatrix = self.load_rating_file_as_matrix(path + \".train.rating\")\n",
    "        self.testRatings = self.load_rating_file_as_list(path + \".test.rating\")\n",
    "        self.testNegatives = self.load_negative_file(path + \".test.negative\")\n",
    "        assert len(self.testRatings) == len(self.testNegatives)\n",
    "        \n",
    "        self.num_users, self.num_items = self.trainMatrix.shape\n",
    "        \n",
    "    def load_rating_file_as_list(self, filename):\n",
    "        ratingList = []\n",
    "        with open(filename, \"r\") as f:\n",
    "            line = f.readline()\n",
    "            while line != None and line != \"\":\n",
    "                arr = line.split(\"\\t\")\n",
    "                user, item = int(arr[0]), int(arr[1])\n",
    "                ratingList.append([user, item])\n",
    "                line = f.readline()\n",
    "        return ratingList\n",
    "    \n",
    "    def load_negative_file(self, filename):\n",
    "        negativeList = []\n",
    "        with open(filename, \"r\") as f:\n",
    "            line = f.readline()\n",
    "            while line != None and line != \"\":\n",
    "                arr = line.split(\"\\t\")\n",
    "                negatives = []\n",
    "                for x in arr[1: ]:\n",
    "                    negatives.append(int(x))\n",
    "                negativeList.append(negatives)\n",
    "                line = f.readline()\n",
    "        return negativeList\n",
    "    \n",
    "    def load_rating_file_as_matrix(self, filename):\n",
    "        '''\n",
    "        Read .rating file and Return dok matrix.\n",
    "        The first line of .rating file is: num_users\\t num_items\n",
    "        '''\n",
    "        # Get number of users and items\n",
    "        num_users, num_items = 0, 0\n",
    "        with open(filename, \"r\") as f:\n",
    "            line = f.readline()\n",
    "            while line != None and line != \"\":\n",
    "                arr = line.split(\"\\t\")\n",
    "                u, i = int(arr[0]), int(arr[1])\n",
    "                num_users = max(num_users, u)\n",
    "                num_items = max(num_items, i)\n",
    "                line = f.readline()\n",
    "        # Construct matrix\n",
    "        mat = sp.dok_matrix((num_users+1, num_items+1), dtype=np.float32)\n",
    "        with open(filename, \"r\") as f:\n",
    "            line = f.readline()\n",
    "            while line != None and line != \"\":\n",
    "                arr = line.split(\"\\t\")\n",
    "                user, item, rating = int(arr[0]), int(arr[1]), float(arr[2])\n",
    "                if (rating > 0):\n",
    "                    mat[user, item] = 1.0\n",
    "                line = f.readline()    \n",
    "        return mat\n"
   ]
  }
 ],
 "metadata": {
  "kernelspec": {
   "display_name": "Python [conda env:anaconda]",
   "language": "python",
   "name": "conda-env-anaconda-py"
  },
  "language_info": {
   "codemirror_mode": {
    "name": "ipython",
    "version": 3
   },
   "file_extension": ".py",
   "mimetype": "text/x-python",
   "name": "python",
   "nbconvert_exporter": "python",
   "pygments_lexer": "ipython3",
   "version": "3.5.3"
  }
 },
 "nbformat": 4,
 "nbformat_minor": 2
}
